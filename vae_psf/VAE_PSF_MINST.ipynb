{
 "cells": [
  {
   "cell_type": "code",
   "execution_count": null,
   "metadata": {},
   "outputs": [],
   "source": [
    "%%javascript\n",
    "IPython.OutputArea.prototype._should_scroll = function(lines){\n",
    "    return false;\n",
    "}"
   ]
  },
  {
   "cell_type": "code",
   "execution_count": null,
   "id": "16a1d9ea",
   "metadata": {},
   "outputs": [],
   "source": [
    "import numpy as np\n",
    "import matplotlib.pyplot as plt\n",
    "import torch\n",
    "from torch.utils.data import TensorDataset, DataLoader, random_split\n",
    "import torch.nn as nn\n",
    "import torch.optim as optim\n",
    "import time\n",
    "from aepsf import VAELoss, VAE, make_mock\n",
    "import pickle\n",
    "import torchvision"
   ]
  },
  {
   "cell_type": "code",
   "execution_count": null,
   "metadata": {},
   "outputs": [],
   "source": [
    "data = torchvision.datasets.MNIST('./local_data/', transform=torchvision.transforms.ToTensor(), download=True)\n",
    "\n",
    "normed_Z = []\n",
    "for i , (x, y) in enumerate(data):\n",
    "    # print(i)\n",
    "    normed_Z.append(x.detach().numpy()[0].reshape(-1))\n",
    "\n",
    "normed_Z = np.array(normed_Z)"
   ]
  },
  {
   "cell_type": "code",
   "execution_count": null,
   "metadata": {},
   "outputs": [],
   "source": [
    "for i in range(10):\n",
    "    plt.figure()\n",
    "    plt.imshow(normed_Z[i].reshape((28,28)))\n",
    "    plt.colorbar()"
   ]
  },
  {
   "cell_type": "code",
   "execution_count": null,
   "id": "2e65f4e4",
   "metadata": {},
   "outputs": [],
   "source": [
    "train_ratio = 0.8\n",
    "batch_size = 64\n",
    "device = 'cpu'\n",
    "# device = 'mps'\n",
    "\n",
    "\n",
    "dataset = TensorDataset(torch.tensor(normed_Z, dtype=torch.float32).to(device))\n",
    "\n",
    "# Split the dataset into training and validation sets\n",
    "train_size = int(train_ratio * len(dataset))\n",
    "val_size = len(dataset) - train_size\n",
    "train_dataset, val_dataset = random_split(dataset, [train_size, val_size])\n",
    "\n",
    "# Create data loaders for the training and validation sets\n",
    "train_loader = DataLoader(train_dataset, batch_size=batch_size, shuffle=True)\n",
    "val_loader = DataLoader(val_dataset, batch_size=val_size, shuffle=False)"
   ]
  },
  {
   "cell_type": "code",
   "execution_count": null,
   "id": "d2e6fe13",
   "metadata": {},
   "outputs": [],
   "source": [
    "# Instantiate VAE model\n",
    "vae = VAE(N_pixel=28*28, layers_n_hidden_units=[512, 256, 128], latent_dim=2).to(device)\n",
    "\n",
    "# Define MSE loss function\n",
    "vae_loss = VAELoss().to(device)\n",
    "\n",
    "# Define optimizer\n",
    "optimizer = optim.Adam(vae.parameters(), lr=1e-3)\n",
    "\n",
    "train_size = len(train_loader.dataset)\n",
    "print(train_size)\n",
    "\n",
    "epochs = 30\n",
    "total_loss = []\n",
    "val_loss = []\n",
    "\n",
    "TIMEA = time.time()\n",
    "\n",
    "print('start')\n",
    "for epoch in range(epochs):\n",
    "    running_loss = 0.0\n",
    "    for x, in train_loader:\n",
    "        # Zero the gradients\n",
    "        optimizer.zero_grad()\n",
    "        # Forward pass\n",
    "        x_hat, mu, log_var = vae(x)\n",
    "        loss = vae_loss(x, x_hat, mu, log_var)\n",
    "\n",
    "        # Backward pass and optimization\n",
    "        loss.backward()\n",
    "        optimizer.step()\n",
    "        # Add the mini-batch loss to the running loss\n",
    "        running_loss += loss.item()\n",
    "\n",
    "    for x_val, in val_loader:\n",
    "        #x_hat_val, mu_val, log_var_val = vae(x_val)\n",
    "        x_hat_val, mu_val, log_var_val = vae.forward(x_val, repam=False)\n",
    "        vloss = vae_loss(x_val, x_hat_val, mu_val, log_var_val)\n",
    "        val_loss.append(vloss.item())\n",
    "\n",
    "    # Compute the average loss for the epoch\n",
    "    epoch_loss = running_loss #/ train_size\n",
    "    total_loss.append(epoch_loss)\n",
    "\n",
    "    # Print the average loss for the epoch\n",
    "    print(f\"Epoch {epoch+1} loss: {epoch_loss:.6f} validation loss: {vloss:.6f}\")\n",
    "\n",
    "TIMEB = time.time()\n",
    "\n",
    "print(TIMEB-TIMEA)"
   ]
  },
  {
   "cell_type": "code",
   "execution_count": null,
   "id": "566a087b",
   "metadata": {},
   "outputs": [],
   "source": [
    "plt.plot(total_loss)\n",
    "plt.plot(val_loss)\n",
    "#plt.yscale('log')"
   ]
  },
  {
   "cell_type": "code",
   "execution_count": null,
   "id": "8867f0fe",
   "metadata": {},
   "outputs": [],
   "source": [
    "for i in range(20):\n",
    "\n",
    "    x = x_val[i].detach().numpy().reshape(28,28)\n",
    "    x_hat = x_hat_val[i].detach().numpy().reshape(28,28)\n",
    "    \n",
    "    plt.figure(figsize=(12,5))\n",
    "    plt.subplots_adjust(wspace=0.4, left=0.05, right=0.95)\n",
    "    plt.subplot(1,3,1)\n",
    "    plt.imshow(x, cmap=plt.cm.seismic, vmin=-1, vmax=1)\n",
    "    plt.gca().invert_yaxis()\n",
    "    plt.colorbar()\n",
    "\n",
    "    plt.subplot(1,3,2)\n",
    "    plt.imshow(x_hat, cmap=plt.cm.seismic, vmin=-1, vmax=1)\n",
    "    plt.colorbar()\n",
    "    plt.gca().invert_yaxis()\n",
    "    plt.yticks([],[])\n",
    "\n",
    "    plt.subplot(1,3,3)\n",
    "    plt.imshow(((x_hat-x) / x) * 200, cmap=plt.cm.seismic, vmin=-10, vmax=10)\n",
    "    plt.colorbar()\n",
    "    plt.gca().invert_yaxis()\n",
    "    plt.yticks([],[])"
   ]
  },
  {
   "cell_type": "code",
   "execution_count": null,
   "id": "151a1a49",
   "metadata": {},
   "outputs": [],
   "source": [
    "A = mu_val.detach().numpy()\n",
    "plt.scatter(A[:,0], A[:,1])\n",
    "plt.figure()\n",
    "plt.scatter(A[:,0], A[:,2])\n",
    "plt.figure()\n",
    "plt.scatter(A[:,1], A[:,2])"
   ]
  },
  {
   "cell_type": "code",
   "execution_count": null,
   "id": "6c6094ab",
   "metadata": {},
   "outputs": [],
   "source": [
    "VAE?"
   ]
  },
  {
   "cell_type": "code",
   "execution_count": null,
   "metadata": {},
   "outputs": [],
   "source": []
  }
 ],
 "metadata": {
  "kernelspec": {
   "display_name": "Python 3 (ipykernel)",
   "language": "python",
   "name": "python3"
  },
  "language_info": {
   "codemirror_mode": {
    "name": "ipython",
    "version": 3
   },
   "file_extension": ".py",
   "mimetype": "text/x-python",
   "name": "python",
   "nbconvert_exporter": "python",
   "pygments_lexer": "ipython3",
   "version": "3.9.7"
  }
 },
 "nbformat": 4,
 "nbformat_minor": 5
}
